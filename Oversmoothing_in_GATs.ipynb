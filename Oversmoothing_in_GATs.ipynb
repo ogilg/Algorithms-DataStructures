{
  "cells": [
    {
      "cell_type": "markdown",
      "metadata": {
        "id": "view-in-github",
        "colab_type": "text"
      },
      "source": [
        "<a href=\"https://colab.research.google.com/github/ogilg/Algorithms-DataStructures/blob/main/Oversmoothing_in_GATs.ipynb\" target=\"_parent\"><img src=\"https://colab.research.google.com/assets/colab-badge.svg\" alt=\"Open In Colab\"/></a>"
      ]
    },
    {
      "cell_type": "markdown",
      "metadata": {
        "id": "8L_jhuL3-AJh"
      },
      "source": [
        "# Over-smoothing in GAT and Multi-Hop GAT"
      ]
    },
    {
      "cell_type": "code",
      "execution_count": null,
      "metadata": {
        "colab": {
          "base_uri": "https://localhost:8080/"
        },
        "id": "WrZHSnxHp60n",
        "outputId": "54704d67-181e-4ccd-b53d-f2fe9cfc9710"
      },
      "outputs": [
        {
          "name": "stdout",
          "output_type": "stream",
          "text": [
            "Mounted at /content/gdrive/\n"
          ]
        }
      ],
      "source": [
        "from google.colab import drive\n",
        "drive.mount('/content/gdrive/')"
      ]
    },
    {
      "cell_type": "code",
      "execution_count": null,
      "metadata": {
        "id": "R8wka4bap_3h"
      },
      "outputs": [],
      "source": [
        "import sys\n",
        "import os\n",
        "\n",
        "sys.path.append(os.path.join('/content','gdrive','My Drive','Oxford', 'Year 4','GRL','MP','GNN-MAGNA'))\n",
        "sys.path.append(os.path.join('/content','gdrive','My Drive','Oxford', 'Year 4','GRL','MP','GNN-MAGNA', 'MAGNA'))"
      ]
    },
    {
      "cell_type": "code",
      "execution_count": null,
      "metadata": {
        "colab": {
          "base_uri": "https://localhost:8080/"
        },
        "id": "MvfApclRTcni",
        "outputId": "e05a4520-196a-4bff-f715-b506a6704342"
      },
      "outputs": [
        {
          "name": "stdout",
          "output_type": "stream",
          "text": [
            "Looking in indexes: https://pypi.org/simple, https://us-python.pkg.dev/colab-wheels/public/simple/\n",
            "Looking in links: https://data.pyg.org/whl/torch-1.13.0+cu111.html\n",
            "Requirement already satisfied: torch-scatter in /usr/local/lib/python3.8/dist-packages (2.1.0)\n",
            "Looking in indexes: https://pypi.org/simple, https://us-python.pkg.dev/colab-wheels/public/simple/\n",
            "Looking in links: https://data.pyg.org/whl/torch-1.13.0+cu111.html\n",
            "Requirement already satisfied: torch-sparse in /usr/local/lib/python3.8/dist-packages (0.6.16)\n",
            "Requirement already satisfied: scipy in /usr/local/lib/python3.8/dist-packages (from torch-sparse) (1.7.3)\n",
            "Requirement already satisfied: numpy<1.23.0,>=1.16.5 in /usr/local/lib/python3.8/dist-packages (from scipy->torch-sparse) (1.21.6)\n",
            "Looking in indexes: https://pypi.org/simple, https://us-python.pkg.dev/colab-wheels/public/simple/\n",
            "Looking in links: https://data.pyg.org/whl/torch-1.13.0+cu111.html\n",
            "Requirement already satisfied: torch-cluster in /usr/local/lib/python3.8/dist-packages (1.6.0)\n",
            "Looking in indexes: https://pypi.org/simple, https://us-python.pkg.dev/colab-wheels/public/simple/\n",
            "Collecting git+https://github.com/pyg-team/pytorch_geometric.git\n",
            "  Cloning https://github.com/pyg-team/pytorch_geometric.git to /tmp/pip-req-build-0krs8gwj\n",
            "  Running command git clone -q https://github.com/pyg-team/pytorch_geometric.git /tmp/pip-req-build-0krs8gwj\n",
            "Requirement already satisfied: tqdm in /usr/local/lib/python3.8/dist-packages (from torch-geometric==2.2.0) (4.64.1)\n",
            "Requirement already satisfied: numpy in /usr/local/lib/python3.8/dist-packages (from torch-geometric==2.2.0) (1.21.6)\n",
            "Requirement already satisfied: scipy in /usr/local/lib/python3.8/dist-packages (from torch-geometric==2.2.0) (1.7.3)\n",
            "Requirement already satisfied: jinja2 in /usr/local/lib/python3.8/dist-packages (from torch-geometric==2.2.0) (2.11.3)\n",
            "Requirement already satisfied: requests in /usr/local/lib/python3.8/dist-packages (from torch-geometric==2.2.0) (2.23.0)\n",
            "Requirement already satisfied: pyparsing in /usr/local/lib/python3.8/dist-packages (from torch-geometric==2.2.0) (3.0.9)\n",
            "Requirement already satisfied: torchmetrics in /usr/local/lib/python3.8/dist-packages (from torch-geometric==2.2.0) (0.11.0)\n",
            "Requirement already satisfied: scikit-learn in /usr/local/lib/python3.8/dist-packages (from torch-geometric==2.2.0) (1.0.2)\n",
            "Requirement already satisfied: psutil>=5.8.0 in /usr/local/lib/python3.8/dist-packages (from torch-geometric==2.2.0) (5.9.4)\n",
            "Requirement already satisfied: MarkupSafe>=0.23 in /usr/local/lib/python3.8/dist-packages (from jinja2->torch-geometric==2.2.0) (2.0.1)\n",
            "Requirement already satisfied: certifi>=2017.4.17 in /usr/local/lib/python3.8/dist-packages (from requests->torch-geometric==2.2.0) (2022.12.7)\n",
            "Requirement already satisfied: chardet<4,>=3.0.2 in /usr/local/lib/python3.8/dist-packages (from requests->torch-geometric==2.2.0) (3.0.4)\n",
            "Requirement already satisfied: idna<3,>=2.5 in /usr/local/lib/python3.8/dist-packages (from requests->torch-geometric==2.2.0) (2.10)\n",
            "Requirement already satisfied: urllib3!=1.25.0,!=1.25.1,<1.26,>=1.21.1 in /usr/local/lib/python3.8/dist-packages (from requests->torch-geometric==2.2.0) (1.24.3)\n",
            "Requirement already satisfied: threadpoolctl>=2.0.0 in /usr/local/lib/python3.8/dist-packages (from scikit-learn->torch-geometric==2.2.0) (3.1.0)\n",
            "Requirement already satisfied: joblib>=0.11 in /usr/local/lib/python3.8/dist-packages (from scikit-learn->torch-geometric==2.2.0) (1.2.0)\n",
            "Requirement already satisfied: typing-extensions in /usr/local/lib/python3.8/dist-packages (from torchmetrics->torch-geometric==2.2.0) (4.4.0)\n",
            "Requirement already satisfied: packaging in /usr/local/lib/python3.8/dist-packages (from torchmetrics->torch-geometric==2.2.0) (21.3)\n",
            "Requirement already satisfied: torch>=1.8.1 in /usr/local/lib/python3.8/dist-packages (from torchmetrics->torch-geometric==2.2.0) (1.13.0+cu116)\n",
            "Looking in indexes: https://pypi.org/simple, https://us-python.pkg.dev/colab-wheels/public/simple/\n",
            "Requirement already satisfied: torchmetrics in /usr/local/lib/python3.8/dist-packages (0.11.0)\n",
            "Requirement already satisfied: torch>=1.8.1 in /usr/local/lib/python3.8/dist-packages (from torchmetrics) (1.13.0+cu116)\n",
            "Requirement already satisfied: typing-extensions in /usr/local/lib/python3.8/dist-packages (from torchmetrics) (4.4.0)\n",
            "Requirement already satisfied: numpy>=1.17.2 in /usr/local/lib/python3.8/dist-packages (from torchmetrics) (1.21.6)\n",
            "Requirement already satisfied: packaging in /usr/local/lib/python3.8/dist-packages (from torchmetrics) (21.3)\n",
            "Requirement already satisfied: pyparsing!=3.0.5,>=2.0.2 in /usr/local/lib/python3.8/dist-packages (from packaging->torchmetrics) (3.0.9)\n"
          ]
        }
      ],
      "source": [
        "!pip install torch-scatter -f https://data.pyg.org/whl/torch-1.13.0+cu111.html\n",
        "!pip install torch-sparse -f https://data.pyg.org/whl/torch-1.13.0+cu111.html\n",
        "!pip install torch-cluster -f https://data.pyg.org/whl/torch-1.13.0+cu111.html\n",
        "!pip install git+https://github.com/pyg-team/pytorch_geometric.git\n",
        "!pip install torchmetrics"
      ]
    },
    {
      "cell_type": "code",
      "execution_count": null,
      "metadata": {
        "colab": {
          "base_uri": "https://localhost:8080/"
        },
        "id": "Lagh6FA4tNXy",
        "outputId": "833ace44-ed23-4bcb-a5c2-84935eb3a150"
      },
      "outputs": [
        {
          "name": "stdout",
          "output_type": "stream",
          "text": [
            "Looking in indexes: https://pypi.org/simple, https://us-python.pkg.dev/colab-wheels/public/simple/\n",
            "Requirement already satisfied: dgl-cu111 in /usr/local/lib/python3.8/dist-packages (0.6.1)\n",
            "Requirement already satisfied: scipy>=1.1.0 in /usr/local/lib/python3.8/dist-packages (from dgl-cu111) (1.7.3)\n",
            "Requirement already satisfied: networkx>=2.1 in /usr/local/lib/python3.8/dist-packages (from dgl-cu111) (2.8.8)\n",
            "Requirement already satisfied: requests>=2.19.0 in /usr/local/lib/python3.8/dist-packages (from dgl-cu111) (2.23.0)\n",
            "Requirement already satisfied: numpy>=1.14.0 in /usr/local/lib/python3.8/dist-packages (from dgl-cu111) (1.21.6)\n",
            "Requirement already satisfied: certifi>=2017.4.17 in /usr/local/lib/python3.8/dist-packages (from requests>=2.19.0->dgl-cu111) (2022.12.7)\n",
            "Requirement already satisfied: idna<3,>=2.5 in /usr/local/lib/python3.8/dist-packages (from requests>=2.19.0->dgl-cu111) (2.10)\n",
            "Requirement already satisfied: chardet<4,>=3.0.2 in /usr/local/lib/python3.8/dist-packages (from requests>=2.19.0->dgl-cu111) (3.0.4)\n",
            "Requirement already satisfied: urllib3!=1.25.0,!=1.25.1,<1.26,>=1.21.1 in /usr/local/lib/python3.8/dist-packages (from requests>=2.19.0->dgl-cu111) (1.24.3)\n"
          ]
        }
      ],
      "source": [
        "!pip install dgl-cu111"
      ]
    },
    {
      "cell_type": "code",
      "execution_count": null,
      "metadata": {
        "colab": {
          "base_uri": "https://localhost:8080/"
        },
        "id": "kYb1oYvBcTZE",
        "outputId": "6f52b7d8-b6fc-461f-8c9e-310bf2ee1a3f"
      },
      "outputs": [
        {
          "name": "stderr",
          "output_type": "stream",
          "text": [
            "Using backend: pytorch\n"
          ]
        }
      ],
      "source": [
        "import dgl.data"
      ]
    },
    {
      "cell_type": "code",
      "execution_count": null,
      "metadata": {
        "id": "I9yzOSuvUQlZ"
      },
      "outputs": [],
      "source": [
        "import numpy as np\n",
        "import torch\n",
        "import torch.nn as nn\n",
        "import torch.nn.functional as F\n",
        "\n",
        "import typing"
      ]
    },
    {
      "cell_type": "code",
      "execution_count": null,
      "metadata": {
        "id": "6MHkv2xLWPwY"
      },
      "outputs": [],
      "source": [
        "import torch_geometric\n",
        "import torch_geometric.datasets as ds\n",
        "from torch_geometric.nn import GCNConv, GATConv\n",
        "\n",
        "import matplotlib.pyplot as plt\n",
        "import seaborn as sns\n",
        "import pandas as pd"
      ]
    },
    {
      "cell_type": "markdown",
      "metadata": {
        "id": "HMHvho1pVc6-"
      },
      "source": [
        "### Standard GCN implementation"
      ]
    },
    {
      "cell_type": "code",
      "execution_count": null,
      "metadata": {
        "id": "RLNT0d3bUarT"
      },
      "outputs": [],
      "source": [
        "class GCN(nn.Module):\n",
        "  def __init__(\n",
        "      self,\n",
        "      input_dim: int,\n",
        "      hid_dim: int,\n",
        "      n_classes: int,\n",
        "      n_layers: int,\n",
        "      dropout_ratio: float = 0.3):\n",
        "    super(GCN, self).__init__()\n",
        "    \"\"\"\n",
        "    Args:\n",
        "      input_dim: input feature dimension\n",
        "      hid_dim: hidden feature dimension\n",
        "      n_classes: number of target classes\n",
        "      n_layers: number of layers\n",
        "      dropout_ratio: dropout_ratio\n",
        "    \"\"\"\n",
        "    ## ------ Begin Solution ------ ##\n",
        "    self.dropout_ratio = dropout_ratio\n",
        "    self.n_layers = n_layers\n",
        "\n",
        "    layer_list = []\n",
        "\n",
        "    if n_layers == 0:\n",
        "      layer_list.append(nn.Linear(input_dim, n_classes))\n",
        "\n",
        "    else:\n",
        "      layer_list.append(GCNConv(input_dim, hid_dim))\n",
        "      for l in range(n_layers-2):\n",
        "        layer_list.append(GCNConv(hid_dim, hid_dim))\n",
        "      layer_list.append(GCNConv(hid_dim, n_classes))\n",
        "\n",
        "    self.layers = nn.ModuleList(layer_list)\n",
        "\n",
        "  \n",
        "    ## ------ End Solution ------ ##\n",
        "\n",
        "  def forward(self, X, A) -> torch.Tensor:\n",
        "    if self.n_layers == 0:\n",
        "      X = self.layers[0](X)\n",
        "      X = F.relu(X)\n",
        "      X = F.dropout(X, self.dropout_ratio)\n",
        "\n",
        "    else:\n",
        "      for layer in self.layers:\n",
        "        X = layer(X, A)\n",
        "        X = F.relu(X)\n",
        "        X = F.dropout(X, self.dropout_ratio)\n",
        "    return X\n",
        "    \n",
        "  def generate_node_embeddings(self, X, A) -> torch.Tensor:\n",
        "    embeddings = []\n",
        "    for layer in self.layers[:-1]:\n",
        "      X = layer(X, A)\n",
        "      X = F.relu(X)\n",
        "      X = F.dropout(X, self.dropout_ratio)\n",
        "      embeddings.append(X)\n",
        "    return embeddings\n",
        "  \n",
        "  def param_init(self):\n",
        "    for layer in self.children():\n",
        "        if hasattr(layer, 'reset_parameters'):\n",
        "            layer.reset_parameters()\n",
        "        elif hasattr(layer, 'children'):\n",
        "            for child_layer in layer.children():\n",
        "              child_layer.reset_parameters()\n"
      ]
    },
    {
      "cell_type": "markdown",
      "metadata": {
        "id": "nrbJCSl4Fkrt"
      },
      "source": [
        "### GAT implementation"
      ]
    },
    {
      "cell_type": "code",
      "execution_count": null,
      "metadata": {
        "id": "lOd03fpyWNBV"
      },
      "outputs": [],
      "source": [
        "class GAT(nn.Module):\n",
        "  def __init__(\n",
        "      self,\n",
        "      input_dim: int,\n",
        "      hid_dim: int,\n",
        "      n_classes: int,\n",
        "      n_layers: int,\n",
        "      dropout_ratio: float = 0.):\n",
        "    super(GAT, self).__init__()\n",
        "    \"\"\"\n",
        "    Args:\n",
        "      input_dim: input feature dimension\n",
        "      hid_dim: hidden feature dimension\n",
        "      n_classes: number of target classes\n",
        "      n_layers: number of layers\n",
        "      dropout_ratio: dropout_ratio\n",
        "    \"\"\"\n",
        "    ## ------ Begin Solution ------ ##\n",
        "    self.dropout_ratio = dropout_ratio\n",
        "    self.n_layers = n_layers\n",
        "\n",
        "    layer_list = []\n",
        "\n",
        "    if n_layers == 0:\n",
        "      layer_list.append(nn.Linear(input_dim, n_classes))\n",
        "\n",
        "    else:\n",
        "      layer_list.append(GATConv(input_dim, hid_dim))\n",
        "      for l in range(n_layers-2):\n",
        "        layer_list.append(GATConv(hid_dim, hid_dim))\n",
        "      layer_list.append(GATConv(hid_dim, n_classes))\n",
        "\n",
        "    self.layers = nn.ModuleList(layer_list)\n",
        "\n",
        "  \n",
        "    ## ------ End Solution ------ ##\n",
        "\n",
        "  def forward(self, X, A) -> torch.Tensor:\n",
        "    if self.n_layers == 0:\n",
        "      X = self.layers[0](X)\n",
        "      X = F.relu(X)\n",
        "      X = F.dropout(X, self.dropout_ratio)\n",
        "\n",
        "    else:\n",
        "      for layer in self.layers:\n",
        "        X = layer(X, A)\n",
        "        X = F.relu(X)\n",
        "        X = F.dropout(X, self.dropout_ratio)\n",
        "    return X\n",
        "    \n",
        "  def generate_node_embeddings(self, X, A) -> torch.Tensor:\n",
        "    embeddings = []\n",
        "    for layer in self.layers[:-1]:\n",
        "      X = layer(X, A)\n",
        "      X = F.relu(X)\n",
        "      X = F.dropout(X, self.dropout_ratio)\n",
        "      embeddings.append(X)\n",
        "    return embeddings\n",
        "  \n",
        "  def param_init(self):\n",
        "    for layer in self.children():\n",
        "        if hasattr(layer, 'reset_parameters'):\n",
        "            layer.reset_parameters()\n",
        "        elif hasattr(layer, 'children'):\n",
        "            for child_layer in layer.children():\n",
        "              child_layer.reset_parameters()\n"
      ]
    },
    {
      "cell_type": "markdown",
      "metadata": {
        "id": "MQNxwqGqGNH7"
      },
      "source": [
        "### Training code"
      ]
    },
    {
      "cell_type": "code",
      "execution_count": null,
      "metadata": {
        "id": "mDnO5sg1GPVc"
      },
      "outputs": [],
      "source": [
        "from torchmetrics import Accuracy\n",
        "\n",
        "def evaluate(\n",
        "    model,\n",
        "    data,\n",
        "    mask\n",
        "):\n",
        "   out = model(data.x, data.edge_index)\n",
        "   accuracy = Accuracy(task='multiclass', num_classes=out.shape[1],top_k=1).to(\"cuda\")\n",
        "   val_accuracy = accuracy(out[mask], data.y[mask])\n",
        "   return val_accuracy\n",
        "\n",
        "\n",
        "\n",
        "def train_gnn(\n",
        "    params: typing.Dict,\n",
        "    dataset\n",
        ") -> torch.nn.Module:\n",
        "  \"\"\"\n",
        "    This function trains a node classification model and returns the trained model object.\n",
        "  \"\"\"\n",
        "  # set device\n",
        "  device = \"cuda\" if torch.cuda.is_available() else \"cpu\"\n",
        "\n",
        "  # load dataset\n",
        "  data = dataset.data\n",
        "  data = data.to(device)\n",
        "\n",
        "  # Update parameters\n",
        "  params[\"n_classes\"] = dataset.num_classes # number of target classes\n",
        "  params[\"input_dim\"] = dataset.num_features # size of input features\n",
        "\n",
        "  # Set a model\n",
        "  if params['model_name'] == 'GCN':\n",
        "      model = GCN(\n",
        "        params[\"input_dim\"], \n",
        "        params[\"hid_dim\"],\n",
        "        params[\"n_classes\"],\n",
        "        params[\"n_layers\"],\n",
        "        params[\"dropout\"]\n",
        "        ).to(device)\n",
        "  elif params['model_name'] == 'GAT':\n",
        "      model = GAT(\n",
        "        params[\"input_dim\"], \n",
        "        params[\"hid_dim\"],\n",
        "        params[\"n_classes\"],\n",
        "        params[\"n_layers\"]\n",
        "      ).to(device)\n",
        "  else:\n",
        "      raise NotImplementedError\n",
        "      \n",
        "  model.param_init()\n",
        "\n",
        "  loss_fn = nn.CrossEntropyLoss()\n",
        "  optimizer = torch.optim.Adam(model.parameters(), lr=params[\"lr\"])\n",
        "  previous_acc = None\n",
        "  increasing_acc_epochs = 0\n",
        "\n",
        "  for i in range(params[\"epochs\"]):\n",
        "      # Zero your gradients for every batch!\n",
        "      optimizer.zero_grad()\n",
        "\n",
        "      # Make predictions for this batch\n",
        "      outputs = model(data.x, data.edge_index)\n",
        "\n",
        "      # Compute the loss and its gradients\n",
        "      loss = loss_fn(outputs[data.train_mask], data.y[data.train_mask])\n",
        "      loss.backward()\n",
        "\n",
        "      # Adjust learning weights\n",
        "      optimizer.step()\n",
        "\n",
        "      acc = evaluate(model, data, data.val_mask)\n",
        "      if previous_acc is not None and acc < previous_acc:\n",
        "        increasing_acc_epochs += 1\n",
        "      else:\n",
        "        best_model = model\n",
        "        best_acc = acc\n",
        "        increasing_acc_epochs = 0\n",
        "\n",
        "      if increasing_acc_epochs == params[\"max_patience\"]:\n",
        "        return best_model, best_acc\n",
        "      else:\n",
        "        previous_acc = acc\n",
        "\n",
        "  return best_model, best_acc\n"
      ]
    },
    {
      "cell_type": "markdown",
      "metadata": {
        "id": "NzxSf3VvHhFO"
      },
      "source": [
        "### Datasets"
      ]
    },
    {
      "cell_type": "code",
      "execution_count": 287,
      "metadata": {
        "id": "rKW8LSpMn-HX"
      },
      "outputs": [],
      "source": [
        "import dgl.data"
      ]
    },
    {
      "cell_type": "code",
      "execution_count": null,
      "metadata": {
        "colab": {
          "base_uri": "https://localhost:8080/"
        },
        "id": "QW885KsSGyq1",
        "outputId": "7550720e-1dd3-4b76-ec6f-4c36c0a2f9d1"
      },
      "outputs": [
        {
          "name": "stdout",
          "output_type": "stream",
          "text": [
            "  NumNodes: 2708\n",
            "  NumEdges: 10556\n",
            "  NumFeats: 1433\n",
            "  NumClasses: 7\n",
            "  NumTrainingSamples: 140\n",
            "  NumValidationSamples: 500\n",
            "  NumTestSamples: 1000\n",
            "Done loading data from cached files.\n"
          ]
        }
      ],
      "source": [
        "cora_dataset = ds.Planetoid(\n",
        "    root=\"./\",\n",
        "    name='Cora',\n",
        "    split=\"public\",\n",
        "    transform=torch_geometric.transforms.GCNNorm()\n",
        "  )\n",
        "\n",
        "cora_graph = dgl.data.CoraGraphDataset()[0]"
      ]
    },
    {
      "cell_type": "code",
      "execution_count": null,
      "metadata": {
        "colab": {
          "base_uri": "https://localhost:8080/"
        },
        "id": "Er28xO3LVpPM",
        "outputId": "b196bd04-c357-45f5-863e-e7299cc11430"
      },
      "outputs": [
        {
          "name": "stdout",
          "output_type": "stream",
          "text": [
            "  NumNodes: 3327\n",
            "  NumEdges: 9228\n",
            "  NumFeats: 3703\n",
            "  NumClasses: 6\n",
            "  NumTrainingSamples: 120\n",
            "  NumValidationSamples: 500\n",
            "  NumTestSamples: 1000\n",
            "Done loading data from cached files.\n"
          ]
        }
      ],
      "source": [
        "citeseer_dataset = ds.Planetoid(\n",
        "    root=\"./\",\n",
        "    name='Citeseer',\n",
        "    split=\"public\",\n",
        "    transform=torch_geometric.transforms.GCNNorm()\n",
        "  )\n",
        "\n",
        "citeseer_graph = dgl.data.CiteseerGraphDataset()[0]"
      ]
    },
    {
      "cell_type": "code",
      "execution_count": null,
      "metadata": {
        "colab": {
          "base_uri": "https://localhost:8080/"
        },
        "id": "4RmYG3Z-V2is",
        "outputId": "87063b74-9946-4787-ad76-a61bb6a1c9e2"
      },
      "outputs": [
        {
          "name": "stdout",
          "output_type": "stream",
          "text": [
            "  NumNodes: 19717\n",
            "  NumEdges: 88651\n",
            "  NumFeats: 500\n",
            "  NumClasses: 3\n",
            "  NumTrainingSamples: 60\n",
            "  NumValidationSamples: 500\n",
            "  NumTestSamples: 1000\n",
            "Done loading data from cached files.\n"
          ]
        }
      ],
      "source": [
        "pubmed_dataset = ds.Planetoid(\n",
        "    root=\"./\",\n",
        "    name='Pubmed',\n",
        "    split=\"public\",\n",
        "    transform=torch_geometric.transforms.GCNNorm()\n",
        "  )\n",
        "\n",
        "pubmed_graph = dgl.data.PubmedGraphDataset()[0]"
      ]
    },
    {
      "cell_type": "markdown",
      "metadata": {
        "id": "jtRpysVmURZO"
      },
      "source": [
        "### GAT and standard GCN"
      ]
    },
    {
      "cell_type": "code",
      "execution_count": null,
      "metadata": {
        "id": "o9DYGbJHH2Tx"
      },
      "outputs": [],
      "source": [
        "def compute_experiment_accuracies(dataset, training_params, depths, df):\n",
        "  data = dataset.data.to(\"cuda\")\n",
        "\n",
        "  for num_layers in depths:\n",
        "    print(\"Number of layers: \", num_layers)\n",
        "    training_params[\"n_layers\"] = num_layers\n",
        "\n",
        "    training_params[\"model_name\"] = 'GCN'\n",
        "    training_params[\"dropout\"] = 0.3\n",
        "\n",
        "    for i in range(5):\n",
        "      best_model = train_gnn(training_params, dataset)[0]\n",
        "      acc = float(evaluate(best_model, data, data.test_mask))\n",
        "      df = df.append(pd.DataFrame({\"model\": [training_params[\"model_name\"]], \"dataset\": [dataset.name], \"num_layers\": [num_layers], \"accuracy\": [acc],  \"num_hops\": None}))\n",
        "   \n",
        "    training_params[\"dropout\"] = 0.0\n",
        "\n",
        "    for i in range(5):\n",
        "      best_model = train_gnn(training_params, dataset)[0]\n",
        "      acc = float(evaluate(best_model, data, data.test_mask))\n",
        "      df = df.append(pd.DataFrame({\"model\": [training_params[\"model_name\"]+\"_no_dropout\"], \"dataset\": [dataset.name], \"num_layers\": [num_layers], \"accuracy\": [acc], \"num_hops\": None}))\n",
        "\n",
        "       \n",
        "    training_params[\"model_name\"] = 'GAT'\n",
        "    for i in range(5):\n",
        "      best_model = train_gnn(training_params, dataset)[0]\n",
        "      acc = float(evaluate(best_model, data, data.test_mask))\n",
        "      df = df.append(pd.DataFrame({\"model\": [training_params[\"model_name\"]], \"dataset\": [dataset.name], \"num_layers\": [num_layers], \"accuracy\": [acc], \"num_hops\": None}))\n",
        "\n",
        "\n",
        "  return df\n"
      ]
    },
    {
      "cell_type": "markdown",
      "metadata": {
        "id": "1mL0LFvBgf7s"
      },
      "source": [
        "### Multi-Hop GATs"
      ]
    },
    {
      "cell_type": "code",
      "execution_count": null,
      "metadata": {
        "id": "0bSRciLmgfcI"
      },
      "outputs": [],
      "source": [
        "from codes.train import train"
      ]
    },
    {
      "cell_type": "code",
      "execution_count": null,
      "metadata": {
        "id": "bPMsSO84h6lN"
      },
      "outputs": [],
      "source": [
        "def compute_magna_accuracies(dataset, data_graph, train_params, depths, df):\n",
        "  df_copy = df.copy()\n",
        "  data = dataset.data.to(\"cpu\")\n",
        "  print(data.x.shape)\n",
        "  for num_layers in depths:\n",
        "    print(\"Number of layers: \", num_layers)\n",
        "\n",
        "    train_params[\"num_layers\"] = num_layers\n",
        "\n",
        "    accs = []\n",
        "    for i in range(5):\n",
        "      best_model, test_acc = train(train_params, data, data_graph)  \n",
        "      df_copy = df_copy.append(pd.DataFrame({\"model\": [\"MAGNA\"], \"dataset\": [dataset.name], \"num_layers\": [num_layers], \"accuracy\": [test_acc], \"num_hops\": train_params[\"hop_num\"]}))\n",
        "\n",
        "  return df_copy"
      ]
    },
    {
      "cell_type": "markdown",
      "metadata": {
        "id": "GX2MBqXUnx4P"
      },
      "source": [
        "## Run Experiment"
      ]
    },
    {
      "cell_type": "code",
      "execution_count": null,
      "metadata": {
        "id": "nugRGJ5hn0Gd"
      },
      "outputs": [],
      "source": [
        "depths = [1, 3, 5, 10, 15]\n",
        "dataset = citeseer_dataset\n",
        "dataset_graph = citeseer_graph"
      ]
    },
    {
      "cell_type": "code",
      "execution_count": null,
      "metadata": {
        "id": "3oidM6xsogxt"
      },
      "outputs": [],
      "source": [
        "training_params = {\n",
        "    \"lr\": 0.005,  # learning rate\n",
        "    \"weight_decay\": 0.0005,  # weight_decay\n",
        "    \"epochs\": 100,  # number of total training epochs\n",
        "    \"max_patience\": 5, # number of k for early stopping\n",
        "    \"hid_dim\": 64, # size of hidden features\n",
        "    \"n_layers\": None, # number of layers\n",
        "    \"model_name\": \"GAT\",\n",
        "    \"dropout\" : 0.3\n",
        "}\n",
        "\n",
        "# MAGNA\n",
        "magna_train_params = {\n",
        "    \"lr\": 0.005,  # learning rate\n",
        "    \"weight_decay\": 0.0005,  # weight_decay\n",
        "    \"epochs\": 100,  # number of total training epochs\n",
        "    \"max_patience\": 5, # number of k for early stopping\n",
        "    \"hid_dim\": 64, # size of hidden features\n",
        "    \"num_layers\": None, # number of layers\n",
        "    \"project_dim\": 64,\n",
        "    \"in_drop\":0,\n",
        "    \"attn_drop\":0.3,\n",
        "    \"hop_num\": 3,\n",
        "    \"model_name\": \"MAGNA\",\n",
        "    \"self_loops\":True,\n",
        "    \"num_heads\": 8\n",
        "    }\n"
      ]
    },
    {
      "cell_type": "code",
      "execution_count": null,
      "metadata": {
        "id": "XzxbOr-Tsoh3"
      },
      "outputs": [],
      "source": [
        "df = pd.DataFrame(columns=[\"model\", \"num_layers\", \"accuracy\", \"dataset\", \"num_hops\"])"
      ]
    },
    {
      "cell_type": "code",
      "execution_count": null,
      "metadata": {
        "id": "CLyzF5S3R1id"
      },
      "outputs": [],
      "source": [
        "datasets = [cora_dataset, citeseer_dataset, pubmed_dataset]\n",
        "dataset_graphs = [cora_graph, citeseer_graph, pubmed_graph]"
      ]
    },
    {
      "cell_type": "code",
      "execution_count": null,
      "metadata": {
        "colab": {
          "background_save": true
        },
        "id": "mI1VRhfaSAsS"
      },
      "outputs": [],
      "source": [
        "for i in range(3):\n",
        "  dataset = datasets[i]\n",
        "  dataset_graph = dataset_graphs[i]\n",
        "  df = compute_magna_accuracies(dataset, dataset_graph, magna_train_params, depths, df)\n",
        "  df = compute_experiment_accuracies(dataset, training_params, depths, df)\n"
      ]
    },
    {
      "cell_type": "code",
      "execution_count": null,
      "metadata": {
        "id": "USz30LV8oYvN"
      },
      "outputs": [],
      "source": [
        "df = compute_experiment_accuracies(dataset, training_params, depths, df)"
      ]
    },
    {
      "cell_type": "code",
      "execution_count": null,
      "metadata": {
        "id": "yEy5JeAwiBZU"
      },
      "outputs": [],
      "source": [
        "df = compute_magna_accuracies(dataset, dataset_graph, magna_train_params, depths, df)"
      ]
    },
    {
      "cell_type": "code",
      "execution_count": null,
      "metadata": {
        "id": "0LYxsdThn1pX"
      },
      "outputs": [],
      "source": [
        "df[\"num_hops\"] = np.where(df.model == \"MAGNA\", 3, None)"
      ]
    },
    {
      "cell_type": "code",
      "execution_count": null,
      "metadata": {
        "id": "Nv9R7k88eFBp"
      },
      "outputs": [],
      "source": [
        "df.to_pickle(\"./stats03.pkl\") "
      ]
    },
    {
      "cell_type": "code",
      "execution_count": null,
      "metadata": {
        "colab": {
          "base_uri": "https://localhost:8080/"
        },
        "id": "TGqFZmlvyiIJ",
        "outputId": "96e8f9ac-b0fa-41da-9d68-e71cb884b39d"
      },
      "outputs": [
        {
          "data": {
            "text/plain": [
              "array(['MAGNA', 'GCN', 'GCN_no_dropout', 'GAT'], dtype=object)"
            ]
          },
          "execution_count": 100,
          "metadata": {},
          "output_type": "execute_result"
        }
      ],
      "source": [
        "df.model.unique()"
      ]
    },
    {
      "cell_type": "code",
      "execution_count": 288,
      "metadata": {
        "colab": {
          "base_uri": "https://localhost:8080/",
          "height": 355
        },
        "id": "t2TLemNBoiqJ",
        "outputId": "488fa465-520e-426f-ea58-90fea2f0d50d"
      },
      "outputs": [
        {
          "output_type": "display_data",
          "data": {
            "text/plain": [
              "<Figure size 1800x360 with 3 Axes>"
            ],
            "image/png": "[encoded data removed]"
          },
          "metadata": {}
        }
      ],
      "source": [
        "sns.set(rc={'figure.figsize':(25,5)})\n",
        "fig, axs = plt.subplots(1,3)\n",
        "for i, ds in enumerate([\"Cora\", \"Citeseer\", \"Pubmed\"]):\n",
        "  sns.barplot(data=df[df.dataset == ds], x=\"num_layers\", y=\"accuracy\", hue=\"model\", hue_order=df.model.unique(), ci=None, ax = axs[i]).set_title(ds)"
      ]
    },
    {
      "cell_type": "code",
      "execution_count": null,
      "metadata": {
        "id": "yV0r_FSwq_oF"
      },
      "outputs": [],
      "source": []
    },
    {
      "cell_type": "markdown",
      "metadata": {
        "id": "uvr64PV3uuxL"
      },
      "source": [
        "## Where does over-smoothing begin for MAGNA"
      ]
    },
    {
      "cell_type": "code",
      "execution_count": null,
      "metadata": {
        "id": "IoWXlVa74e7w"
      },
      "outputs": [],
      "source": [
        "magna_train_params[\"hop_num\"] = 3"
      ]
    },
    {
      "cell_type": "code",
      "execution_count": 289,
      "metadata": {
        "id": "3n_okKrzY6Mu"
      },
      "outputs": [],
      "source": [
        "hops = [3, 6, 9]"
      ]
    },
    {
      "cell_type": "code",
      "execution_count": 290,
      "metadata": {
        "id": "kPk58jjq1oQg"
      },
      "outputs": [],
      "source": [
        "df_deep = pd.DataFrame(columns=[\"model\", \"num_layers\", \"accuracy\", \"dataset\",\"num_hops\"])"
      ]
    },
    {
      "cell_type": "code",
      "execution_count": 295,
      "metadata": {
        "id": "UAPdgZIUY9Py",
        "colab": {
          "base_uri": "https://localhost:8080/"
        },
        "outputId": "9e7bb2e7-0272-4d1c-e0fc-0f25e69408c1"
      },
      "outputs": [
        {
          "output_type": "stream",
          "name": "stdout",
          "text": [
            "EarlyStopping counter: 4 out of 5\n",
            "EarlyStopping counter: 5 out of 5\n",
            "EarlyStopping counter: 1 out of 5\n",
            "EarlyStopping counter: 2 out of 5\n",
            "EarlyStopping counter: 1 out of 5\n",
            "EarlyStopping counter: 2 out of 5\n",
            "EarlyStopping counter: 1 out of 5\n",
            "EarlyStopping counter: 2 out of 5\n",
            "EarlyStopping counter: 3 out of 5\n",
            "EarlyStopping counter: 1 out of 5\n",
            "EarlyStopping counter: 1 out of 5\n",
            "EarlyStopping counter: 2 out of 5\n",
            "EarlyStopping counter: 3 out of 5\n",
            "EarlyStopping counter: 4 out of 5\n",
            "EarlyStopping counter: 5 out of 5\n",
            "EarlyStopping counter: 1 out of 5\n",
            "EarlyStopping counter: 1 out of 5\n",
            "EarlyStopping counter: 2 out of 5\n",
            "EarlyStopping counter: 1 out of 5\n",
            "EarlyStopping counter: 2 out of 5\n",
            "EarlyStopping counter: 3 out of 5\n",
            "EarlyStopping counter: 4 out of 5\n",
            "EarlyStopping counter: 5 out of 5\n",
            "EarlyStopping counter: 1 out of 5\n",
            "EarlyStopping counter: 2 out of 5\n",
            "EarlyStopping counter: 3 out of 5\n",
            "EarlyStopping counter: 4 out of 5\n",
            "EarlyStopping counter: 5 out of 5\n",
            "torch.Size([19717, 500])\n",
            "Number of layers:  3\n",
            "EarlyStopping counter: 1 out of 5\n",
            "EarlyStopping counter: 2 out of 5\n",
            "EarlyStopping counter: 1 out of 5\n",
            "EarlyStopping counter: 2 out of 5\n",
            "EarlyStopping counter: 3 out of 5\n",
            "EarlyStopping counter: 4 out of 5\n",
            "EarlyStopping counter: 5 out of 5\n",
            "EarlyStopping counter: 1 out of 5\n",
            "EarlyStopping counter: 1 out of 5\n",
            "EarlyStopping counter: 2 out of 5\n",
            "EarlyStopping counter: 3 out of 5\n",
            "EarlyStopping counter: 4 out of 5\n",
            "EarlyStopping counter: 1 out of 5\n",
            "EarlyStopping counter: 2 out of 5\n",
            "EarlyStopping counter: 1 out of 5\n",
            "EarlyStopping counter: 1 out of 5\n",
            "EarlyStopping counter: 2 out of 5\n",
            "EarlyStopping counter: 1 out of 5\n",
            "EarlyStopping counter: 2 out of 5\n",
            "EarlyStopping counter: 3 out of 5\n",
            "EarlyStopping counter: 1 out of 5\n",
            "EarlyStopping counter: 2 out of 5\n",
            "EarlyStopping counter: 1 out of 5\n",
            "EarlyStopping counter: 2 out of 5\n",
            "EarlyStopping counter: 3 out of 5\n",
            "EarlyStopping counter: 4 out of 5\n",
            "EarlyStopping counter: 5 out of 5\n",
            "EarlyStopping counter: 1 out of 5\n",
            "EarlyStopping counter: 1 out of 5\n",
            "EarlyStopping counter: 1 out of 5\n",
            "EarlyStopping counter: 1 out of 5\n",
            "EarlyStopping counter: 2 out of 5\n",
            "EarlyStopping counter: 3 out of 5\n",
            "EarlyStopping counter: 4 out of 5\n",
            "EarlyStopping counter: 5 out of 5\n",
            "EarlyStopping counter: 1 out of 5\n",
            "EarlyStopping counter: 2 out of 5\n",
            "EarlyStopping counter: 1 out of 5\n",
            "EarlyStopping counter: 1 out of 5\n",
            "EarlyStopping counter: 2 out of 5\n",
            "EarlyStopping counter: 1 out of 5\n",
            "EarlyStopping counter: 2 out of 5\n",
            "EarlyStopping counter: 3 out of 5\n",
            "EarlyStopping counter: 1 out of 5\n",
            "EarlyStopping counter: 2 out of 5\n",
            "EarlyStopping counter: 3 out of 5\n",
            "EarlyStopping counter: 4 out of 5\n",
            "EarlyStopping counter: 5 out of 5\n",
            "EarlyStopping counter: 1 out of 5\n",
            "EarlyStopping counter: 2 out of 5\n",
            "EarlyStopping counter: 1 out of 5\n",
            "EarlyStopping counter: 2 out of 5\n",
            "EarlyStopping counter: 1 out of 5\n",
            "EarlyStopping counter: 2 out of 5\n",
            "EarlyStopping counter: 3 out of 5\n",
            "EarlyStopping counter: 4 out of 5\n",
            "EarlyStopping counter: 5 out of 5\n",
            "Number of layers:  5\n",
            "EarlyStopping counter: 1 out of 5\n",
            "EarlyStopping counter: 2 out of 5\n",
            "EarlyStopping counter: 3 out of 5\n",
            "EarlyStopping counter: 1 out of 5\n",
            "EarlyStopping counter: 2 out of 5\n",
            "EarlyStopping counter: 3 out of 5\n",
            "EarlyStopping counter: 4 out of 5\n",
            "EarlyStopping counter: 1 out of 5\n",
            "EarlyStopping counter: 1 out of 5\n",
            "EarlyStopping counter: 2 out of 5\n",
            "EarlyStopping counter: 3 out of 5\n",
            "EarlyStopping counter: 4 out of 5\n",
            "EarlyStopping counter: 1 out of 5\n",
            "EarlyStopping counter: 2 out of 5\n",
            "EarlyStopping counter: 3 out of 5\n",
            "EarlyStopping counter: 1 out of 5\n",
            "EarlyStopping counter: 2 out of 5\n",
            "EarlyStopping counter: 3 out of 5\n",
            "EarlyStopping counter: 4 out of 5\n",
            "EarlyStopping counter: 5 out of 5\n",
            "EarlyStopping counter: 1 out of 5\n",
            "EarlyStopping counter: 2 out of 5\n",
            "EarlyStopping counter: 1 out of 5\n",
            "EarlyStopping counter: 2 out of 5\n",
            "EarlyStopping counter: 1 out of 5\n",
            "EarlyStopping counter: 2 out of 5\n",
            "EarlyStopping counter: 1 out of 5\n",
            "EarlyStopping counter: 2 out of 5\n",
            "EarlyStopping counter: 3 out of 5\n",
            "EarlyStopping counter: 1 out of 5\n",
            "EarlyStopping counter: 2 out of 5\n",
            "EarlyStopping counter: 3 out of 5\n",
            "EarlyStopping counter: 1 out of 5\n",
            "EarlyStopping counter: 2 out of 5\n",
            "EarlyStopping counter: 3 out of 5\n",
            "EarlyStopping counter: 1 out of 5\n",
            "EarlyStopping counter: 2 out of 5\n",
            "EarlyStopping counter: 3 out of 5\n",
            "EarlyStopping counter: 4 out of 5\n",
            "EarlyStopping counter: 5 out of 5\n",
            "EarlyStopping counter: 1 out of 5\n",
            "EarlyStopping counter: 2 out of 5\n",
            "EarlyStopping counter: 3 out of 5\n",
            "EarlyStopping counter: 4 out of 5\n",
            "EarlyStopping counter: 1 out of 5\n",
            "EarlyStopping counter: 2 out of 5\n",
            "EarlyStopping counter: 1 out of 5\n",
            "EarlyStopping counter: 2 out of 5\n",
            "EarlyStopping counter: 3 out of 5\n",
            "EarlyStopping counter: 4 out of 5\n",
            "EarlyStopping counter: 5 out of 5\n",
            "EarlyStopping counter: 1 out of 5\n",
            "EarlyStopping counter: 2 out of 5\n",
            "EarlyStopping counter: 3 out of 5\n",
            "EarlyStopping counter: 1 out of 5\n",
            "EarlyStopping counter: 2 out of 5\n",
            "EarlyStopping counter: 1 out of 5\n",
            "EarlyStopping counter: 2 out of 5\n",
            "EarlyStopping counter: 1 out of 5\n",
            "EarlyStopping counter: 1 out of 5\n",
            "EarlyStopping counter: 2 out of 5\n",
            "EarlyStopping counter: 3 out of 5\n",
            "EarlyStopping counter: 4 out of 5\n",
            "EarlyStopping counter: 1 out of 5\n",
            "EarlyStopping counter: 1 out of 5\n",
            "EarlyStopping counter: 1 out of 5\n",
            "EarlyStopping counter: 2 out of 5\n",
            "EarlyStopping counter: 1 out of 5\n",
            "EarlyStopping counter: 2 out of 5\n",
            "EarlyStopping counter: 3 out of 5\n",
            "EarlyStopping counter: 4 out of 5\n",
            "EarlyStopping counter: 5 out of 5\n",
            "EarlyStopping counter: 1 out of 5\n",
            "EarlyStopping counter: 2 out of 5\n",
            "EarlyStopping counter: 3 out of 5\n",
            "EarlyStopping counter: 4 out of 5\n",
            "EarlyStopping counter: 1 out of 5\n",
            "EarlyStopping counter: 2 out of 5\n",
            "EarlyStopping counter: 3 out of 5\n",
            "EarlyStopping counter: 4 out of 5\n",
            "EarlyStopping counter: 5 out of 5\n",
            "Number of layers:  10\n",
            "EarlyStopping counter: 1 out of 5\n",
            "EarlyStopping counter: 2 out of 5\n",
            "EarlyStopping counter: 3 out of 5\n",
            "EarlyStopping counter: 4 out of 5\n",
            "EarlyStopping counter: 1 out of 5\n",
            "EarlyStopping counter: 1 out of 5\n",
            "EarlyStopping counter: 2 out of 5\n",
            "EarlyStopping counter: 3 out of 5\n",
            "EarlyStopping counter: 4 out of 5\n",
            "EarlyStopping counter: 5 out of 5\n",
            "EarlyStopping counter: 1 out of 5\n",
            "EarlyStopping counter: 2 out of 5\n",
            "EarlyStopping counter: 1 out of 5\n",
            "EarlyStopping counter: 2 out of 5\n",
            "EarlyStopping counter: 3 out of 5\n",
            "EarlyStopping counter: 4 out of 5\n",
            "EarlyStopping counter: 5 out of 5\n",
            "EarlyStopping counter: 1 out of 5\n",
            "EarlyStopping counter: 2 out of 5\n",
            "EarlyStopping counter: 1 out of 5\n",
            "EarlyStopping counter: 2 out of 5\n",
            "EarlyStopping counter: 3 out of 5\n",
            "EarlyStopping counter: 1 out of 5\n",
            "EarlyStopping counter: 2 out of 5\n",
            "EarlyStopping counter: 3 out of 5\n",
            "EarlyStopping counter: 4 out of 5\n",
            "EarlyStopping counter: 5 out of 5\n",
            "EarlyStopping counter: 1 out of 5\n",
            "EarlyStopping counter: 2 out of 5\n",
            "EarlyStopping counter: 3 out of 5\n",
            "EarlyStopping counter: 4 out of 5\n",
            "EarlyStopping counter: 5 out of 5\n",
            "EarlyStopping counter: 1 out of 5\n",
            "EarlyStopping counter: 2 out of 5\n",
            "EarlyStopping counter: 3 out of 5\n",
            "EarlyStopping counter: 1 out of 5\n",
            "EarlyStopping counter: 2 out of 5\n",
            "EarlyStopping counter: 3 out of 5\n",
            "EarlyStopping counter: 4 out of 5\n",
            "EarlyStopping counter: 5 out of 5\n",
            "Number of layers:  20\n",
            "EarlyStopping counter: 1 out of 5\n",
            "EarlyStopping counter: 1 out of 5\n",
            "EarlyStopping counter: 2 out of 5\n",
            "EarlyStopping counter: 3 out of 5\n",
            "EarlyStopping counter: 1 out of 5\n",
            "EarlyStopping counter: 1 out of 5\n",
            "EarlyStopping counter: 2 out of 5\n",
            "EarlyStopping counter: 3 out of 5\n",
            "EarlyStopping counter: 4 out of 5\n",
            "EarlyStopping counter: 5 out of 5\n",
            "EarlyStopping counter: 1 out of 5\n",
            "EarlyStopping counter: 2 out of 5\n",
            "EarlyStopping counter: 1 out of 5\n",
            "EarlyStopping counter: 2 out of 5\n",
            "EarlyStopping counter: 1 out of 5\n",
            "EarlyStopping counter: 2 out of 5\n",
            "EarlyStopping counter: 3 out of 5\n",
            "EarlyStopping counter: 4 out of 5\n",
            "EarlyStopping counter: 1 out of 5\n",
            "EarlyStopping counter: 2 out of 5\n",
            "EarlyStopping counter: 3 out of 5\n",
            "EarlyStopping counter: 4 out of 5\n",
            "EarlyStopping counter: 5 out of 5\n",
            "EarlyStopping counter: 1 out of 5\n",
            "EarlyStopping counter: 1 out of 5\n",
            "EarlyStopping counter: 2 out of 5\n",
            "EarlyStopping counter: 1 out of 5\n",
            "EarlyStopping counter: 2 out of 5\n",
            "EarlyStopping counter: 3 out of 5\n",
            "EarlyStopping counter: 4 out of 5\n",
            "EarlyStopping counter: 5 out of 5\n",
            "EarlyStopping counter: 1 out of 5\n",
            "EarlyStopping counter: 2 out of 5\n",
            "EarlyStopping counter: 1 out of 5\n",
            "EarlyStopping counter: 2 out of 5\n",
            "EarlyStopping counter: 1 out of 5\n",
            "EarlyStopping counter: 2 out of 5\n",
            "EarlyStopping counter: 3 out of 5\n",
            "EarlyStopping counter: 4 out of 5\n",
            "EarlyStopping counter: 1 out of 5\n",
            "EarlyStopping counter: 1 out of 5\n",
            "EarlyStopping counter: 2 out of 5\n",
            "EarlyStopping counter: 1 out of 5\n",
            "EarlyStopping counter: 2 out of 5\n",
            "EarlyStopping counter: 3 out of 5\n",
            "EarlyStopping counter: 4 out of 5\n",
            "EarlyStopping counter: 5 out of 5\n",
            "EarlyStopping counter: 1 out of 5\n",
            "EarlyStopping counter: 2 out of 5\n",
            "EarlyStopping counter: 1 out of 5\n",
            "EarlyStopping counter: 2 out of 5\n",
            "EarlyStopping counter: 3 out of 5\n",
            "EarlyStopping counter: 4 out of 5\n",
            "EarlyStopping counter: 5 out of 5\n",
            "torch.Size([19717, 500])\n",
            "Number of layers:  3\n",
            "EarlyStopping counter: 1 out of 5\n",
            "EarlyStopping counter: 2 out of 5\n",
            "EarlyStopping counter: 3 out of 5\n",
            "EarlyStopping counter: 1 out of 5\n",
            "EarlyStopping counter: 1 out of 5\n",
            "EarlyStopping counter: 2 out of 5\n",
            "EarlyStopping counter: 3 out of 5\n",
            "EarlyStopping counter: 4 out of 5\n",
            "EarlyStopping counter: 5 out of 5\n",
            "EarlyStopping counter: 1 out of 5\n",
            "EarlyStopping counter: 1 out of 5\n",
            "EarlyStopping counter: 1 out of 5\n",
            "EarlyStopping counter: 2 out of 5\n",
            "EarlyStopping counter: 3 out of 5\n",
            "EarlyStopping counter: 4 out of 5\n",
            "EarlyStopping counter: 5 out of 5\n",
            "EarlyStopping counter: 1 out of 5\n",
            "EarlyStopping counter: 2 out of 5\n",
            "EarlyStopping counter: 1 out of 5\n",
            "EarlyStopping counter: 2 out of 5\n",
            "EarlyStopping counter: 3 out of 5\n",
            "EarlyStopping counter: 1 out of 5\n",
            "EarlyStopping counter: 1 out of 5\n",
            "EarlyStopping counter: 1 out of 5\n",
            "EarlyStopping counter: 1 out of 5\n",
            "EarlyStopping counter: 2 out of 5\n",
            "EarlyStopping counter: 3 out of 5\n",
            "EarlyStopping counter: 1 out of 5\n",
            "EarlyStopping counter: 1 out of 5\n",
            "EarlyStopping counter: 2 out of 5\n",
            "EarlyStopping counter: 1 out of 5\n",
            "EarlyStopping counter: 2 out of 5\n",
            "EarlyStopping counter: 1 out of 5\n",
            "EarlyStopping counter: 2 out of 5\n",
            "EarlyStopping counter: 1 out of 5\n",
            "EarlyStopping counter: 2 out of 5\n",
            "EarlyStopping counter: 3 out of 5\n",
            "EarlyStopping counter: 4 out of 5\n",
            "EarlyStopping counter: 5 out of 5\n",
            "EarlyStopping counter: 1 out of 5\n",
            "EarlyStopping counter: 2 out of 5\n",
            "EarlyStopping counter: 1 out of 5\n",
            "EarlyStopping counter: 2 out of 5\n",
            "EarlyStopping counter: 1 out of 5\n",
            "EarlyStopping counter: 2 out of 5\n",
            "EarlyStopping counter: 1 out of 5\n",
            "EarlyStopping counter: 2 out of 5\n",
            "EarlyStopping counter: 3 out of 5\n",
            "EarlyStopping counter: 4 out of 5\n",
            "EarlyStopping counter: 1 out of 5\n",
            "EarlyStopping counter: 2 out of 5\n",
            "EarlyStopping counter: 1 out of 5\n",
            "EarlyStopping counter: 2 out of 5\n",
            "EarlyStopping counter: 1 out of 5\n",
            "EarlyStopping counter: 1 out of 5\n",
            "EarlyStopping counter: 2 out of 5\n",
            "EarlyStopping counter: 1 out of 5\n",
            "EarlyStopping counter: 2 out of 5\n",
            "EarlyStopping counter: 3 out of 5\n",
            "EarlyStopping counter: 4 out of 5\n",
            "EarlyStopping counter: 5 out of 5\n",
            "EarlyStopping counter: 1 out of 5\n",
            "EarlyStopping counter: 2 out of 5\n",
            "EarlyStopping counter: 3 out of 5\n",
            "EarlyStopping counter: 4 out of 5\n",
            "EarlyStopping counter: 5 out of 5\n",
            "Number of layers:  5\n",
            "EarlyStopping counter: 1 out of 5\n",
            "EarlyStopping counter: 2 out of 5\n",
            "EarlyStopping counter: 3 out of 5\n",
            "EarlyStopping counter: 1 out of 5\n",
            "EarlyStopping counter: 2 out of 5\n",
            "EarlyStopping counter: 3 out of 5\n",
            "EarlyStopping counter: 4 out of 5\n",
            "EarlyStopping counter: 1 out of 5\n",
            "EarlyStopping counter: 2 out of 5\n",
            "EarlyStopping counter: 1 out of 5\n",
            "EarlyStopping counter: 1 out of 5\n",
            "EarlyStopping counter: 2 out of 5\n",
            "EarlyStopping counter: 3 out of 5\n",
            "EarlyStopping counter: 4 out of 5\n",
            "EarlyStopping counter: 5 out of 5\n",
            "EarlyStopping counter: 1 out of 5\n",
            "EarlyStopping counter: 2 out of 5\n",
            "EarlyStopping counter: 1 out of 5\n",
            "EarlyStopping counter: 2 out of 5\n",
            "EarlyStopping counter: 3 out of 5\n",
            "EarlyStopping counter: 1 out of 5\n",
            "EarlyStopping counter: 2 out of 5\n",
            "EarlyStopping counter: 3 out of 5\n",
            "EarlyStopping counter: 1 out of 5\n",
            "EarlyStopping counter: 2 out of 5\n",
            "EarlyStopping counter: 1 out of 5\n",
            "EarlyStopping counter: 1 out of 5\n",
            "EarlyStopping counter: 2 out of 5\n",
            "EarlyStopping counter: 1 out of 5\n",
            "EarlyStopping counter: 2 out of 5\n",
            "EarlyStopping counter: 3 out of 5\n",
            "EarlyStopping counter: 1 out of 5\n",
            "EarlyStopping counter: 2 out of 5\n",
            "EarlyStopping counter: 3 out of 5\n",
            "EarlyStopping counter: 4 out of 5\n",
            "EarlyStopping counter: 1 out of 5\n",
            "EarlyStopping counter: 2 out of 5\n",
            "EarlyStopping counter: 1 out of 5\n",
            "EarlyStopping counter: 2 out of 5\n",
            "EarlyStopping counter: 3 out of 5\n",
            "EarlyStopping counter: 4 out of 5\n",
            "EarlyStopping counter: 5 out of 5\n",
            "EarlyStopping counter: 1 out of 5\n",
            "EarlyStopping counter: 2 out of 5\n",
            "EarlyStopping counter: 3 out of 5\n",
            "EarlyStopping counter: 1 out of 5\n",
            "EarlyStopping counter: 2 out of 5\n",
            "EarlyStopping counter: 3 out of 5\n",
            "EarlyStopping counter: 4 out of 5\n",
            "EarlyStopping counter: 5 out of 5\n",
            "EarlyStopping counter: 1 out of 5\n",
            "EarlyStopping counter: 1 out of 5\n",
            "EarlyStopping counter: 2 out of 5\n",
            "EarlyStopping counter: 3 out of 5\n",
            "EarlyStopping counter: 4 out of 5\n",
            "EarlyStopping counter: 5 out of 5\n",
            "EarlyStopping counter: 1 out of 5\n",
            "EarlyStopping counter: 2 out of 5\n",
            "EarlyStopping counter: 1 out of 5\n",
            "EarlyStopping counter: 2 out of 5\n",
            "EarlyStopping counter: 3 out of 5\n",
            "EarlyStopping counter: 4 out of 5\n",
            "EarlyStopping counter: 5 out of 5\n",
            "Number of layers:  10\n",
            "EarlyStopping counter: 1 out of 5\n",
            "EarlyStopping counter: 2 out of 5\n",
            "EarlyStopping counter: 1 out of 5\n",
            "EarlyStopping counter: 2 out of 5\n",
            "EarlyStopping counter: 3 out of 5\n",
            "EarlyStopping counter: 4 out of 5\n",
            "EarlyStopping counter: 5 out of 5\n",
            "EarlyStopping counter: 1 out of 5\n",
            "EarlyStopping counter: 2 out of 5\n",
            "EarlyStopping counter: 1 out of 5\n",
            "EarlyStopping counter: 2 out of 5\n",
            "EarlyStopping counter: 3 out of 5\n",
            "EarlyStopping counter: 4 out of 5\n",
            "EarlyStopping counter: 5 out of 5\n",
            "EarlyStopping counter: 1 out of 5\n",
            "EarlyStopping counter: 2 out of 5\n",
            "EarlyStopping counter: 3 out of 5\n",
            "EarlyStopping counter: 4 out of 5\n",
            "EarlyStopping counter: 1 out of 5\n",
            "EarlyStopping counter: 2 out of 5\n",
            "EarlyStopping counter: 3 out of 5\n",
            "EarlyStopping counter: 4 out of 5\n",
            "EarlyStopping counter: 1 out of 5\n",
            "EarlyStopping counter: 2 out of 5\n",
            "EarlyStopping counter: 1 out of 5\n",
            "EarlyStopping counter: 1 out of 5\n",
            "EarlyStopping counter: 2 out of 5\n",
            "EarlyStopping counter: 3 out of 5\n",
            "EarlyStopping counter: 1 out of 5\n",
            "EarlyStopping counter: 2 out of 5\n",
            "EarlyStopping counter: 3 out of 5\n",
            "EarlyStopping counter: 4 out of 5\n",
            "EarlyStopping counter: 1 out of 5\n",
            "EarlyStopping counter: 2 out of 5\n",
            "EarlyStopping counter: 3 out of 5\n",
            "EarlyStopping counter: 1 out of 5\n",
            "EarlyStopping counter: 1 out of 5\n",
            "EarlyStopping counter: 2 out of 5\n",
            "EarlyStopping counter: 3 out of 5\n",
            "EarlyStopping counter: 4 out of 5\n",
            "EarlyStopping counter: 5 out of 5\n",
            "EarlyStopping counter: 1 out of 5\n",
            "EarlyStopping counter: 2 out of 5\n",
            "EarlyStopping counter: 3 out of 5\n",
            "EarlyStopping counter: 4 out of 5\n",
            "EarlyStopping counter: 1 out of 5\n",
            "EarlyStopping counter: 2 out of 5\n",
            "EarlyStopping counter: 3 out of 5\n",
            "EarlyStopping counter: 4 out of 5\n",
            "EarlyStopping counter: 1 out of 5\n",
            "EarlyStopping counter: 2 out of 5\n",
            "EarlyStopping counter: 3 out of 5\n",
            "EarlyStopping counter: 4 out of 5\n",
            "EarlyStopping counter: 1 out of 5\n",
            "EarlyStopping counter: 2 out of 5\n",
            "EarlyStopping counter: 3 out of 5\n",
            "EarlyStopping counter: 4 out of 5\n",
            "EarlyStopping counter: 5 out of 5\n",
            "EarlyStopping counter: 1 out of 5\n",
            "EarlyStopping counter: 2 out of 5\n",
            "EarlyStopping counter: 3 out of 5\n",
            "EarlyStopping counter: 1 out of 5\n",
            "EarlyStopping counter: 2 out of 5\n",
            "EarlyStopping counter: 3 out of 5\n",
            "EarlyStopping counter: 4 out of 5\n",
            "EarlyStopping counter: 5 out of 5\n",
            "Number of layers:  20\n",
            "EarlyStopping counter: 1 out of 5\n",
            "EarlyStopping counter: 2 out of 5\n",
            "EarlyStopping counter: 1 out of 5\n",
            "EarlyStopping counter: 2 out of 5\n",
            "EarlyStopping counter: 1 out of 5\n",
            "EarlyStopping counter: 2 out of 5\n",
            "EarlyStopping counter: 3 out of 5\n",
            "EarlyStopping counter: 1 out of 5\n",
            "EarlyStopping counter: 2 out of 5\n",
            "EarlyStopping counter: 1 out of 5\n",
            "EarlyStopping counter: 2 out of 5\n",
            "EarlyStopping counter: 3 out of 5\n",
            "EarlyStopping counter: 4 out of 5\n",
            "EarlyStopping counter: 1 out of 5\n",
            "EarlyStopping counter: 2 out of 5\n",
            "EarlyStopping counter: 3 out of 5\n",
            "EarlyStopping counter: 1 out of 5\n",
            "EarlyStopping counter: 2 out of 5\n",
            "EarlyStopping counter: 3 out of 5\n",
            "EarlyStopping counter: 4 out of 5\n",
            "EarlyStopping counter: 5 out of 5\n",
            "EarlyStopping counter: 1 out of 5\n",
            "EarlyStopping counter: 2 out of 5\n",
            "EarlyStopping counter: 3 out of 5\n",
            "EarlyStopping counter: 1 out of 5\n",
            "EarlyStopping counter: 2 out of 5\n",
            "EarlyStopping counter: 3 out of 5\n",
            "EarlyStopping counter: 1 out of 5\n",
            "EarlyStopping counter: 2 out of 5\n",
            "EarlyStopping counter: 1 out of 5\n",
            "EarlyStopping counter: 2 out of 5\n",
            "EarlyStopping counter: 3 out of 5\n",
            "EarlyStopping counter: 4 out of 5\n",
            "EarlyStopping counter: 1 out of 5\n",
            "EarlyStopping counter: 2 out of 5\n",
            "EarlyStopping counter: 3 out of 5\n",
            "EarlyStopping counter: 4 out of 5\n",
            "EarlyStopping counter: 1 out of 5\n",
            "EarlyStopping counter: 2 out of 5\n",
            "EarlyStopping counter: 1 out of 5\n",
            "EarlyStopping counter: 2 out of 5\n",
            "EarlyStopping counter: 3 out of 5\n",
            "EarlyStopping counter: 4 out of 5\n",
            "EarlyStopping counter: 5 out of 5\n",
            "EarlyStopping counter: 1 out of 5\n",
            "EarlyStopping counter: 2 out of 5\n",
            "EarlyStopping counter: 1 out of 5\n",
            "EarlyStopping counter: 2 out of 5\n",
            "EarlyStopping counter: 1 out of 5\n",
            "EarlyStopping counter: 2 out of 5\n",
            "EarlyStopping counter: 3 out of 5\n",
            "EarlyStopping counter: 4 out of 5\n",
            "EarlyStopping counter: 5 out of 5\n",
            "EarlyStopping counter: 1 out of 5\n",
            "EarlyStopping counter: 2 out of 5\n",
            "EarlyStopping counter: 1 out of 5\n",
            "EarlyStopping counter: 2 out of 5\n",
            "EarlyStopping counter: 3 out of 5\n",
            "EarlyStopping counter: 1 out of 5\n",
            "EarlyStopping counter: 1 out of 5\n",
            "EarlyStopping counter: 2 out of 5\n",
            "EarlyStopping counter: 3 out of 5\n",
            "EarlyStopping counter: 4 out of 5\n",
            "EarlyStopping counter: 5 out of 5\n",
            "EarlyStopping counter: 1 out of 5\n",
            "EarlyStopping counter: 2 out of 5\n",
            "EarlyStopping counter: 3 out of 5\n",
            "EarlyStopping counter: 1 out of 5\n",
            "EarlyStopping counter: 1 out of 5\n",
            "EarlyStopping counter: 2 out of 5\n",
            "EarlyStopping counter: 3 out of 5\n",
            "EarlyStopping counter: 4 out of 5\n",
            "EarlyStopping counter: 5 out of 5\n"
          ]
        }
      ],
      "source": [
        "for num_hops in hops:\n",
        "  magna_train_params[\"hop_num\"] = num_hops\n",
        "  df_deep = compute_magna_accuracies(dataset, dataset_graph, magna_train_params, [3,5,10, 20], df_deep)"
      ]
    },
    {
      "cell_type": "code",
      "execution_count": 294,
      "metadata": {
        "colab": {
          "base_uri": "https://localhost:8080/"
        },
        "id": "E2GXAmNo5yYw",
        "outputId": "25186959-2614-45c7-c040-726bada6a6d3"
      },
      "outputs": [
        {
          "output_type": "execute_result",
          "data": {
            "text/plain": [
              "array([3], dtype=object)"
            ]
          },
          "metadata": {},
          "execution_count": 294
        }
      ],
      "source": [
        "df_deep.num_hops.unique()"
      ]
    },
    {
      "cell_type": "code",
      "execution_count": 296,
      "metadata": {
        "colab": {
          "base_uri": "https://localhost:8080/",
          "height": 359
        },
        "id": "XWj3CF_Fu8JC",
        "outputId": "1bb721d4-bbeb-44b9-bdee-9edfa600ebef"
      },
      "outputs": [
        {
          "output_type": "execute_result",
          "data": {
            "text/plain": [
              "<matplotlib.axes._subplots.AxesSubplot at 0x7f88fd14be20>"
            ]
          },
          "metadata": {},
          "execution_count": 296
        },
        {
          "output_type": "display_data",
          "data": {
            "text/plain": [
              "<Figure size 720x360 with 1 Axes>"
            ],
            "image/png": "[encoded data removed]"
          },
          "metadata": {}
        }
      ],
      "source": [
        "sns.set(rc={'figure.figsize':(10,5)})\n",
        "sns.barplot(data=df_deep[df_deep.model == \"MAGNA\"], x=\"num_layers\", y=\"accuracy\", hue=\"num_hops\", ci=None)"
      ]
    },
    {
      "cell_type": "markdown",
      "metadata": {
        "id": "I5HKExEy81-e"
      },
      "source": [
        "# MAD"
      ]
    },
    {
      "cell_type": "code",
      "execution_count": null,
      "metadata": {
        "id": "FVUOzUNdeAv4"
      },
      "outputs": [],
      "source": [
        "cos = nn.CosineSimilarity(dim=1, eps=1e-6)\n",
        "\n",
        "def compute_mad(feature_matrix):\n",
        "  l = feature_matrix.size(0)\n",
        "  D = compute_cosine_similarity_matrix(feature_matrix)\n",
        "\n",
        "  avg_D = torch.empty((l))\n",
        "\n",
        "  for i in range(l):\n",
        "    avg_D[i] = torch.sum(D[i])/ torch.sum(D[i]> 0)\n",
        "\n",
        "  mad = torch.sum(avg_D)/ torch.sum(avg_D> 0)\n",
        "\n",
        "  return mad\n",
        "\n",
        "\n",
        "\n",
        "def compute_cosine_similarity_matrix(feature_matrix):\n",
        "  l = feature_matrix.size(0)\n",
        "  D = torch.empty((l,l))\n",
        "  computed = []\n",
        "  for i in range(l):\n",
        "    for j in range(l):\n",
        "      if (j, i) in computed:\n",
        "        D[i,j] = D[j,i]\n",
        "      else:\n",
        "        D[i,j] = 1 - cos(feature_matrix[i], feature_matrix[j])\n",
        "      computed.append((i,j))\n",
        "\n",
        "  return D\n",
        "\n",
        "    "
      ]
    },
    {
      "cell_type": "code",
      "execution_count": null,
      "metadata": {
        "colab": {
          "base_uri": "https://localhost:8080/"
        },
        "id": "U5WqoUfqkjWl",
        "outputId": "1b5a2234-1bae-4e2b-cae4-f9c5ab88c130"
      },
      "outputs": [
        {
          "data": {
            "text/plain": [
              "tensor(3.2500)"
            ]
          },
          "execution_count": 20,
          "metadata": {},
          "output_type": "execute_result"
        }
      ],
      "source": [
        "dataset = cora_dataset\n",
        "data_graph = cora_graph"
      ]
    },
    {
      "cell_type": "code",
      "execution_count": null,
      "metadata": {
        "id": "zZitavFzkxoA"
      },
      "outputs": [],
      "source": [
        "X = dataset.data.x[:50]\n",
        "magna_train_params[\"num_layers\"] = 4\n",
        "training_params[\"num_layer\"] = 4"
      ]
    },
    {
      "cell_type": "markdown",
      "metadata": {
        "id": "PVGSqSXuYmad"
      },
      "source": [
        "### GAT"
      ]
    },
    {
      "cell_type": "code",
      "execution_count": null,
      "metadata": {
        "id": "MW13BU2aY8dm"
      },
      "outputs": [],
      "source": [
        "best_model = train_gnn(training_params, dataset)[0]"
      ]
    },
    {
      "cell_type": "code",
      "execution_count": null,
      "metadata": {
        "id": "TS2_Mpn1YofK"
      },
      "outputs": [],
      "source": [
        "best_model.generate_node_embeddings(X, dataset.data.edge_index)"
      ]
    },
    {
      "cell_type": "markdown",
      "metadata": {
        "id": "eoo1r6pzYlHR"
      },
      "source": [
        "### MAGNA"
      ]
    },
    {
      "cell_type": "code",
      "execution_count": null,
      "metadata": {
        "id": "xbTt76gMXt_U"
      },
      "outputs": [],
      "source": [
        "best_model = train(magna_train_params, dataset.data, data_graph)[0] "
      ]
    },
    {
      "cell_type": "code",
      "execution_count": null,
      "metadata": {
        "id": "fnlqfhVKYe5A"
      },
      "outputs": [],
      "source": [
        "best_model.layer_attention_node_features(X)"
      ]
    },
    {
      "cell_type": "markdown",
      "metadata": {
        "id": "0k1hqn471HoC"
      },
      "source": [
        "# Visualisation"
      ]
    },
    {
      "cell_type": "code",
      "execution_count": null,
      "metadata": {
        "id": "Hn9zRiPs88-M"
      },
      "outputs": [],
      "source": [
        "dataset = citeseer_dataset\n",
        "dataset_graph = citeseer_graph"
      ]
    },
    {
      "cell_type": "code",
      "execution_count": null,
      "metadata": {
        "id": "rLGhhD2pGYuW"
      },
      "outputs": [],
      "source": [
        "magna_train_params[\"num_layers\"] = 10\n",
        "training_params[\"n_layers\"] = 10"
      ]
    },
    {
      "cell_type": "code",
      "execution_count": null,
      "metadata": {
        "colab": {
          "base_uri": "https://localhost:8080/"
        },
        "id": "2W9ct9LmJEUL",
        "outputId": "924c0857-a083-4ed6-dc11-3c45caa78a02"
      },
      "outputs": [
        {
          "data": {
            "text/plain": [
              "{'lr': 0.005,\n",
              " 'weight_decay': 0.0005,\n",
              " 'epochs': 100,\n",
              " 'max_patience': 5,\n",
              " 'hid_dim': 64,\n",
              " 'n_layers': 100,\n",
              " 'model_name': 'GAT',\n",
              " 'dropout': 0.0,\n",
              " 'n_classes': 6,\n",
              " 'input_dim': 3703,\n",
              " 'num_layers': 4}"
            ]
          },
          "execution_count": 185,
          "metadata": {},
          "output_type": "execute_result"
        }
      ],
      "source": [
        "training_params"
      ]
    },
    {
      "cell_type": "code",
      "execution_count": null,
      "metadata": {
        "id": "EaUckbKQ1I2F"
      },
      "outputs": [],
      "source": [
        "import pandas as pd\n",
        "import warnings\n",
        "import matplotlib.pyplot as plt\n",
        "\n",
        "from sklearn.manifold import TSNE\n",
        "warnings.simplefilter(action='ignore', category=FutureWarning)"
      ]
    },
    {
      "cell_type": "code",
      "execution_count": null,
      "metadata": {
        "id": "-KfKSKs01J_c"
      },
      "outputs": [],
      "source": [
        "def dimension_reduction(model: nn.Module, data) -> pd.DataFrame:\n",
        "  \"\"\"\n",
        "    Args:\n",
        "      model: model object for generating features\n",
        "      data\n",
        "    Return:\n",
        "      pd.DataFrame: A data frame that has 'dimension 1', 'dimension 2', and 'labels' as a column\n",
        "  \"\"\"\n",
        "  X_embedded = TSNE(n_components=2).fit_transform(model.generate_node_embeddings(data.x, data.edge_index)[-1].cpu().detach().numpy())\n",
        "  return X_embedded"
      ]
    },
    {
      "cell_type": "code",
      "execution_count": null,
      "metadata": {
        "id": "y6juIZOK-db1"
      },
      "outputs": [],
      "source": [
        "def dimension_reduction_magna(model: nn.Module, data) -> pd.DataFrame:\n",
        "  \"\"\"\n",
        "    Args:\n",
        "      model: model object for generating features\n",
        "      data\n",
        "    Return:\n",
        "      pd.DataFrame: A data frame that has 'dimension 1', 'dimension 2', and 'labels' as a column\n",
        "  \"\"\"\n",
        "  \n",
        "  embedding = model.layer_attention_node_features(data.x)[1][-1].cpu().detach().numpy()\n",
        "  X_embedded = TSNE(n_components=2).fit_transform(embedding)\n",
        "  return X_embedded"
      ]
    },
    {
      "cell_type": "code",
      "execution_count": null,
      "metadata": {
        "colab": {
          "base_uri": "https://localhost:8080/"
        },
        "id": "lhyEYNWa2ZA-",
        "outputId": "d2321c1f-6bda-459f-dde3-c0133733798a"
      },
      "outputs": [
        {
          "name": "stderr",
          "output_type": "stream",
          "text": [
            "/usr/local/lib/python3.8/dist-packages/torch_geometric/data/in_memory_dataset.py:133: UserWarning: It is not recommended to directly access the internal storage format `data` of an 'InMemoryDataset'. If you are absolutely certain what you are doing, access the internal storage via `InMemoryDataset._data` instead. Alternatively, you can access stacked individual attributes of every graph via `dataset.{attr_name}`.\n",
            "  warnings.warn(\"It is not recommended to directly access the internal \"\n"
          ]
        }
      ],
      "source": [
        "gat_model = train_gnn(training_params, dataset)[0].to(\"cuda\")"
      ]
    },
    {
      "cell_type": "code",
      "execution_count": null,
      "metadata": {
        "colab": {
          "base_uri": "https://localhost:8080/"
        },
        "id": "0T07fWTN9WCY",
        "outputId": "7309f9cd-0b15-4281-d4be-f5a1c8ef8a63"
      },
      "outputs": [
        {
          "name": "stderr",
          "output_type": "stream",
          "text": [
            "/usr/local/lib/python3.8/dist-packages/dgl/base.py:45: DGLWarning: Recommend creating graphs by `dgl.graph(data)` instead of `dgl.DGLGraph(data)`.\n",
            "  return warnings.warn(message, category=category, stacklevel=1)\n",
            "/usr/local/lib/python3.8/dist-packages/numpy/core/fromnumeric.py:3440: RuntimeWarning: Mean of empty slice.\n",
            "  return _methods._mean(a, axis=axis, dtype=dtype,\n",
            "/usr/local/lib/python3.8/dist-packages/numpy/core/_methods.py:189: RuntimeWarning: invalid value encountered in double_scalars\n",
            "  ret = ret.dtype.type(ret / rcount)\n"
          ]
        },
        {
          "name": "stdout",
          "output_type": "stream",
          "text": [
            "EarlyStopping counter: 1 out of 5\n",
            "EarlyStopping counter: 1 out of 5\n",
            "EarlyStopping counter: 2 out of 5\n",
            "EarlyStopping counter: 3 out of 5\n",
            "EarlyStopping counter: 4 out of 5\n",
            "EarlyStopping counter: 5 out of 5\n"
          ]
        }
      ],
      "source": [
        "magna_model = train(magna_train_params, dataset.data.to(\"cpu\"), dataset_graph)[0] "
      ]
    },
    {
      "cell_type": "code",
      "execution_count": null,
      "metadata": {
        "colab": {
          "base_uri": "https://localhost:8080/"
        },
        "id": "7_8el9KC18t1",
        "outputId": "38fa9e25-e82a-43e2-c0d4-3512851f186b"
      },
      "outputs": [
        {
          "name": "stderr",
          "output_type": "stream",
          "text": [
            "/usr/local/lib/python3.8/dist-packages/torch_geometric/data/in_memory_dataset.py:133: UserWarning: It is not recommended to directly access the internal storage format `data` of an 'InMemoryDataset'. If you are absolutely certain what you are doing, access the internal storage via `InMemoryDataset._data` instead. Alternatively, you can access stacked individual attributes of every graph via `dataset.{attr_name}`.\n",
            "  warnings.warn(\"It is not recommended to directly access the internal \"\n"
          ]
        }
      ],
      "source": [
        "feature_dict = {\n",
        "    \"gat\": dimension_reduction(gat_model, dataset.data.to(\"cuda\")),\n",
        "    \"magna\": dimension_reduction_magna(magna_model,dataset.data)\n",
        "}"
      ]
    },
    {
      "cell_type": "code",
      "execution_count": null,
      "metadata": {
        "id": "Y3JO5bCt2Kfc"
      },
      "outputs": [],
      "source": [
        "def visualise(feature_dict: typing.Dict) -> None:\n",
        "  fig, axs = plt.subplots(1,2, figsize=(20,7))\n",
        "  for i in range(2):\n",
        "    embedding = feature_dict[list(feature_dict.keys())[i]]\n",
        "    axs[i].scatter(embedding[:,0], embedding[:,1])"
      ]
    },
    {
      "cell_type": "code",
      "execution_count": null,
      "metadata": {
        "colab": {
          "base_uri": "https://localhost:8080/",
          "height": 431
        },
        "id": "WZZO5H3Q2xaR",
        "outputId": "65f426c0-35c2-4630-c45f-ddbc086b8cbc"
      },
      "outputs": [
        {
          "data": {
            "image/png": "[encoded data removed]",
            "text/plain": [
              "<Figure size 1440x504 with 2 Axes>"
            ]
          },
          "metadata": {},
          "output_type": "display_data"
        }
      ],
      "source": [
        "visualise(feature_dict)"
      ]
    },
    {
      "cell_type": "code",
      "execution_count": null,
      "metadata": {
        "id": "0-6PYEez8f4O"
      },
      "outputs": [],
      "source": []
    }
  ],
  "metadata": {
    "accelerator": "GPU",
    "colab": {
      "provenance": [],
      "collapsed_sections": [
        "I5HKExEy81-e"
      ],
      "mount_file_id": "1SNZXh6G01RdbCqKt8pDiRzKcC-Q4lDvE",
      "authorship_tag": "ABX9TyMUVfbOe5e+2smpMW6cZYk3",
      "include_colab_link": true
    },
    "gpuClass": "standard",
    "kernelspec": {
      "display_name": "Python 3",
      "name": "python3"
    },
    "language_info": {
      "name": "python"
    }
  },
  "nbformat": 4,
  "nbformat_minor": 0
}